{
  "nbformat": 4,
  "nbformat_minor": 0,
  "metadata": {
    "colab": {
      "provenance": []
    },
    "kernelspec": {
      "name": "python3",
      "display_name": "Python 3"
    },
    "language_info": {
      "name": "python"
    }
  },
  "cells": [
    {
      "cell_type": "markdown",
      "source": [
        "#복잡도 : 알고리즘의 성능을 나타내는 척도\n",
        "*   시간 복잡도 : 알고리즘을 위해 필요한 연산의 횟수\n",
        "*   공간 복잡도 : 알고리즘을 위해 필요한 메모리의 양   \n",
        "*   빅오 big-O 표기법 으로 표현"
      ],
      "metadata": {
        "id": "8xTdU5vA_LKV"
      }
    },
    {
      "cell_type": "code",
      "execution_count": null,
      "metadata": {
        "id": "ukTMhgEk_Grj"
      },
      "outputs": [],
      "source": [
        "array = [ 3,5,1,2,4]\n",
        "summary = 0\n",
        "\n",
        "for x in array:\n",
        "    summary += x\n",
        "\n",
        "print(summary)\n",
        "\n",
        "# N개의 데이터가 있을 때, 연산 횟수는 N에 비례한다\n",
        "# 이럴 때, 시간 복잡도를 O(N) 으로 표기한다"
      ]
    },
    {
      "cell_type": "code",
      "source": [
        "array = [ 3,5,1,2,4]\n",
        "\n",
        "for i in array:\n",
        "    for j in array:\n",
        "        temp = i * j\n",
        "        print(temp)\n",
        "\n",
        "# 이 소스 코드는 데이터의 개수가 N개 일때, O(N^2)의 시간 복잡도를 가진다\n",
        "# 효율적인 알고리즘을 작성하기 위해 시간 복잡도 분석은 아주 중요하다\n",
        "\n",
        "# 문제에서 대부분 리스트 (배열)을 사용해서 풀어야, 데이터에 대한 효율적인 처리가 가능해진다\n",
        "# 공간 복잡도는 이처럼 메모리 사용량을 나타낸다"
      ],
      "metadata": {
        "id": "1gC-jOXZ_JQv"
      },
      "execution_count": null,
      "outputs": []
    }
  ]
}