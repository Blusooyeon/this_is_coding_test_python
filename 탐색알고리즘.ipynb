{
  "nbformat": 4,
  "nbformat_minor": 0,
  "metadata": {
    "colab": {
      "provenance": [],
      "authorship_tag": "ABX9TyNV46ogsBAUZ5YeVTeqGPLD",
      "include_colab_link": true
    },
    "kernelspec": {
      "name": "python3",
      "display_name": "Python 3"
    },
    "language_info": {
      "name": "python"
    }
  },
  "cells": [
    {
      "cell_type": "markdown",
      "metadata": {
        "id": "view-in-github",
        "colab_type": "text"
      },
      "source": [
        "<a href=\"https://colab.research.google.com/github/Blusooyeon/this_is_coding_test_python/blob/main/%ED%83%90%EC%83%89%EC%95%8C%EA%B3%A0%EB%A6%AC%EC%A6%98.ipynb\" target=\"_parent\"><img src=\"https://colab.research.google.com/assets/colab-badge.svg\" alt=\"Open In Colab\"/></a>"
      ]
    },
    {
      "cell_type": "markdown",
      "source": [
        "##DFS depth-first search\n",
        ": 깊이 우선 탐색   \n",
        "* 인접 행렬 : 2차원 배열로 그래프의 연결 관계를 표현하는 방식\n",
        "* 인접 리스트 : 리스트로 그래프의 연결 관계를 표현하는 방식\n",
        "* 인접 리스트 방식이 행렬 방식에 비해 메모리 공간 낭비가 적다  \n",
        "\n",
        "## 동작과정\n",
        "1. 탐색 시작 노드를 스택에 삽입하고 방문 처리를 한다\n",
        "2. 스택의 최상단 노드에 방문하지 않은 인접 노드가 있으면 그 인접 노드를 스택에 넣고 방문 처리를 한다.    \n",
        " 방문하지 않은 인접 노드가 없으면 스택에서 최상단 노드를 꺼낸다\n",
        "3. 2번의 과정을 더 이상 수행할 수 없을 때까지 반복한다\n",
        "\n",
        "\n"
      ],
      "metadata": {
        "id": "14oR4LZoBqt-"
      }
    },
    {
      "cell_type": "code",
      "source": [
        "# DFS 예제\n",
        "def dfs(graph,v,visited):\n",
        "    visited[v] = True\n",
        "    print(v,end=' ')\n",
        "    # 현재 노드와 연결된 다른 노드를 재귀적으로 방문\n",
        "    for i in graph[v]:\n",
        "        if not visited[i]:\n",
        "            dfs(graph,i,visited)\n",
        "\n",
        "# 각 노드가 연결된 정보를 리스트 자료형으로 표현\n",
        "graph = [ [], [2,3,8],[1,7],[1,4,5],[3,5],[3,4],[7],[2,6,8],[1,7] ]\n",
        "visited = [False]*9\n",
        "\n",
        "dfs(graph,1,visited)"
      ],
      "metadata": {
        "colab": {
          "base_uri": "https://localhost:8080/"
        },
        "id": "zqGcCRfVIidv",
        "outputId": "7a68f65b-8d76-4192-ec24-0f35986b39b7"
      },
      "execution_count": 5,
      "outputs": [
        {
          "output_type": "stream",
          "name": "stdout",
          "text": [
            "1 2 7 6 8 3 4 5 "
          ]
        }
      ]
    },
    {
      "cell_type": "markdown",
      "source": [
        "##BFS breadth first search\n",
        ": 너비 우선 탐색   \n",
        "\n",
        "동작과정\n",
        "1. 탐색 시작 노드를 큐에 삽입하고 방문 처리를 한다\n",
        "2. 큐에서 노드를 꺼내 해당 노드의 인접 노드 중에서 방문하지 않은 노드를 모두 큐에 삽입하고 방문 처리를 한다\n",
        "3. 2번의 과정을 더 이상 수행할 수 없을 때까지 반복한다\n",
        "\n",
        "BFS는 큐 자료구조에 기초해서 구현이 간단하고, 일반적으로 실제 수행 시간도 DFS보다 좋다\n",
        "\n"
      ],
      "metadata": {
        "id": "UKNtxH5DJ2Bn"
      }
    },
    {
      "cell_type": "code",
      "source": [
        "# BFS 예제\n",
        "from collections import deque\n",
        "\n",
        "def bfs(graph, start, visited):\n",
        "    queue = deque([start])\n",
        "    visited[start] = True\n",
        "    while queue:\n",
        "        v = queue.popleft()\n",
        "        print(v, end=' ')\n",
        "        for i in graph[v]:\n",
        "          if not visited[i]:\n",
        "            queue.append(i)\n",
        "            visited[i] = True\n",
        "\n",
        "graph = [ [], [2,3,8],[1,7],[1,4,5],[3,5],[3,4],[7],[2,6,8],[1,7] ]\n",
        "\n",
        "visited = [False]*9\n",
        "bfs(graph,1,visited)"
      ],
      "metadata": {
        "colab": {
          "base_uri": "https://localhost:8080/"
        },
        "id": "LZ_nJhpQK3CS",
        "outputId": "267f887d-1d59-4795-c6ca-bbfb21be07e2"
      },
      "execution_count": 6,
      "outputs": [
        {
          "output_type": "stream",
          "name": "stdout",
          "text": [
            "1 2 3 8 7 4 5 6 "
          ]
        }
      ]
    }
  ]
}