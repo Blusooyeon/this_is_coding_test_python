{
  "nbformat": 4,
  "nbformat_minor": 0,
  "metadata": {
    "colab": {
      "provenance": [],
      "authorship_tag": "ABX9TyMQidI2cf692eOcT+tPsv/C",
      "include_colab_link": true
    },
    "kernelspec": {
      "name": "python3",
      "display_name": "Python 3"
    },
    "language_info": {
      "name": "python"
    }
  },
  "cells": [
    {
      "cell_type": "markdown",
      "metadata": {
        "id": "view-in-github",
        "colab_type": "text"
      },
      "source": [
        "<a href=\"https://colab.research.google.com/github/Blusooyeon/this_is_coding_test_python/blob/main/%EC%A0%95%EB%A0%AC%EC%95%8C%EA%B3%A0%EB%A6%AC%EC%A6%98.ipynb\" target=\"_parent\"><img src=\"https://colab.research.google.com/assets/colab-badge.svg\" alt=\"Open In Colab\"/></a>"
      ]
    },
    {
      "cell_type": "markdown",
      "source": [
        "##선택 정렬\n",
        "* 데이터가 무작위로 여러 개 있을 때, 가장 작은 데이터를 선택해 맨 앞에 있는 데이터와 바꾸고, 그다음 작은 데이터를 선택해 앞에서 두 번째 데이터와 바꾸는 과정을 반복..\n",
        "* 데아터가 10,000개 이상이면 속도가 급격히 느려지고, 비효율적이지만, 특정한 리스트에서 가장 작은 데이터를 찾는 일이 잦으므로 선택 정렬 소스코드에 익숙해져야함."
      ],
      "metadata": {
        "id": "LVIbri9SxgZ1"
      }
    },
    {
      "cell_type": "code",
      "execution_count": 1,
      "metadata": {
        "colab": {
          "base_uri": "https://localhost:8080/"
        },
        "id": "IduHBywWxdZS",
        "outputId": "97ee15d9-51a6-43ac-f0b2-d0a49018597a"
      },
      "outputs": [
        {
          "output_type": "stream",
          "name": "stdout",
          "text": [
            "[0, 1, 2, 3, 4, 5, 6, 7, 8, 9]\n"
          ]
        }
      ],
      "source": [
        "# 선택 정렬 소스코드\n",
        "array = [7,5,9,0,3,1,6,2,4,8]\n",
        "\n",
        "for i in range(len(array)):\n",
        "    min_index = i\n",
        "    for j in range(i+1, len(array)):\n",
        "        if array[min_index] > array[j]:\n",
        "            min_index = j\n",
        "    array[i], array[min_index] = array[min_index] , array[i]  #스와프\n",
        "\n",
        "print(array)"
      ]
    },
    {
      "cell_type": "markdown",
      "source": [
        "##삽입 정렬\n",
        "* 데이터를 하나씩 확인하며, 각 데이터를 적절한 위치에 삽입.\n",
        "* 실행 시간 측면에서 매우 효율적임"
      ],
      "metadata": {
        "id": "DqWznyBr2YrP"
      }
    },
    {
      "cell_type": "code",
      "source": [
        "# 삽입 정렬 소스 코드\n",
        "array = [7,5,9,0,3,1,6,2,4,8]\n",
        "\n",
        "for i in range(1,len(array)):\n",
        "    for j in range(i,0,-1):\n",
        "        if array[j] < array[j-1]:\n",
        "            array[j],array[j-1] = array[j-1],array[j]\n",
        "        else:\n",
        "          break\n",
        "\n",
        "print(array)"
      ],
      "metadata": {
        "colab": {
          "base_uri": "https://localhost:8080/"
        },
        "id": "OlQXyTJt3JK0",
        "outputId": "6c05e655-5d28-41ab-d1a7-801ccb375c79"
      },
      "execution_count": 2,
      "outputs": [
        {
          "output_type": "stream",
          "name": "stdout",
          "text": [
            "[0, 1, 2, 3, 4, 5, 6, 7, 8, 9]\n"
          ]
        }
      ]
    },
    {
      "cell_type": "markdown",
      "source": [
        "##퀵 정렬\n",
        "* 기준 데이터 (피봇)을 설정하고, 그 기준보다 큰 데이터와 작은 데이터의 위치를 바꾸는 것을 반복.\n",
        "* 재귀 함수 형태로 작성해야 구현이 매우 간결해진다"
      ],
      "metadata": {
        "id": "La3vQyUV33rJ"
      }
    },
    {
      "cell_type": "code",
      "source": [
        "# 퀵 정렬 소스코드\n",
        "array = [5,7,9,0,3,1,6,2,4,8]\n",
        "\n",
        "def quick_sort(array):\n",
        "  if len(array) <= 1:\n",
        "    return array\n",
        "  pivot = array[0]\n",
        "  tail = array[1:]\n",
        "\n",
        "  left_side = [x for x in tail if x <= pivot]\n",
        "  right_side = [x for x in tail if x > pivot]\n",
        "\n",
        "  return quick_sort(left_side) + [pivot] + quick_sort(right_side)\n",
        "\n",
        "print(quick_sort(array))"
      ],
      "metadata": {
        "colab": {
          "base_uri": "https://localhost:8080/"
        },
        "id": "SUaJKASd468P",
        "outputId": "24c3994e-1f90-4566-9124-3603c66702a2"
      },
      "execution_count": 4,
      "outputs": [
        {
          "output_type": "stream",
          "name": "stdout",
          "text": [
            "[0, 1, 2, 3, 4, 5, 6, 7, 8, 9]\n"
          ]
        }
      ]
    },
    {
      "cell_type": "markdown",
      "source": [
        "##계수 정렬\n",
        "* 특정한 조건이 부합할 때만 사용할 수 있지만 매우 빠른 정렬 알고리즘\n",
        "* 데이터의 크기가 한정되어 있고, 많이 중복되어 있을수록 유리하지만 항상 사용할 수는 없다."
      ],
      "metadata": {
        "id": "bZw2sxmv6lKw"
      }
    },
    {
      "cell_type": "code",
      "source": [
        "# 계수 정렬 소스코드\n",
        "array = [7,5,9,0,3,1,6,2,9,1,4,8,0,5,2]\n",
        "\n",
        "count = [0]*(max(array)+1)\n",
        "\n",
        "for i in range(len(array)):\n",
        "  count[array[i]] += 1\n",
        "\n",
        "for i in range(len(count)):\n",
        "    for j in range(count[i]):\n",
        "        print(i, end=' ')"
      ],
      "metadata": {
        "colab": {
          "base_uri": "https://localhost:8080/"
        },
        "id": "4ytRt2LF68li",
        "outputId": "bde5b351-8e1e-4e66-96a5-60e506079d86"
      },
      "execution_count": 5,
      "outputs": [
        {
          "output_type": "stream",
          "name": "stdout",
          "text": [
            "0 0 1 1 2 2 3 4 5 5 6 7 8 9 9 "
          ]
        }
      ]
    },
    {
      "cell_type": "code",
      "source": [
        "# 파이썬의 정렬 라이브러리\n",
        "array = [7,5,9,0,3,1,6,2,4,8]\n",
        "\n",
        "result = sorted(array)\n",
        "print(result)\n",
        "\n",
        "array.sort()\n",
        "print(array)\n",
        "\n"
      ],
      "metadata": {
        "colab": {
          "base_uri": "https://localhost:8080/"
        },
        "id": "uNB6qU8w8TAG",
        "outputId": "faa1cc64-5433-480d-c83e-b8ef59ebece2"
      },
      "execution_count": 7,
      "outputs": [
        {
          "output_type": "stream",
          "name": "stdout",
          "text": [
            "[0, 1, 2, 3, 4, 5, 6, 7, 8, 9]\n",
            "[0, 1, 2, 3, 4, 5, 6, 7, 8, 9]\n"
          ]
        }
      ]
    }
  ]
}