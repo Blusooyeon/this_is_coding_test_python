{
  "nbformat": 4,
  "nbformat_minor": 0,
  "metadata": {
    "colab": {
      "provenance": [],
      "authorship_tag": "ABX9TyPc+XV02CN/asVd2ZQxqvvf",
      "include_colab_link": true
    },
    "kernelspec": {
      "name": "python3",
      "display_name": "Python 3"
    },
    "language_info": {
      "name": "python"
    }
  },
  "cells": [
    {
      "cell_type": "markdown",
      "metadata": {
        "id": "view-in-github",
        "colab_type": "text"
      },
      "source": [
        "<a href=\"https://colab.research.google.com/github/Blusooyeon/this_is_coding_test_python/blob/main/%EA%B5%AC%ED%98%84.ipynb\" target=\"_parent\"><img src=\"https://colab.research.google.com/assets/colab-badge.svg\" alt=\"Open In Colab\"/></a>"
      ]
    },
    {
      "cell_type": "markdown",
      "source": [
        "#아이디어를 코드로 바꾸는 \"구현\"\n",
        "* 풀이를 떠올리는 것은 쉽지만 소스코드로 옮기기 어려운 문제\n",
        "* 완전 탐색 : 모든 경우의 수를 주저 없이 다 계산하는 해결 방법\n",
        "* 시뮬레이션 : 문제에서 제시한 알고리즘을 한 단계씩 차례대로 직접 수행해야하는 문제 유형"
      ],
      "metadata": {
        "id": "1iKzc-1V8yBj"
      }
    },
    {
      "cell_type": "code",
      "source": [
        "# 예제4-1 상하좌우\n",
        "n = int(input())\n",
        "plans = input().split()\n",
        "x,y = 1,1\n",
        "\n",
        "move_types = ['L','R','U','D']\n",
        "dx = [0,0,-1,1]\n",
        "dy = [-1,1,0,0]\n",
        "\n",
        "for plan in plans:\n",
        "  for i in range(len(move_types)):\n",
        "    if plan == move_types[i]:\n",
        "      nx = x + dx[i]\n",
        "      ny = y + dy[i]\n",
        "  if nx < 1 or ny < 1 or nx > n or ny > n:\n",
        "    continue\n",
        "  x,y = nx, ny\n",
        "\n",
        "print(x,y)"
      ],
      "metadata": {
        "colab": {
          "base_uri": "https://localhost:8080/"
        },
        "id": "_lffcD0y-Jhy",
        "outputId": "e7970fd7-fb2d-407d-fa0d-ff3bfef33da5"
      },
      "execution_count": 1,
      "outputs": [
        {
          "output_type": "stream",
          "name": "stdout",
          "text": [
            "5\n",
            "R R R U D D\n",
            "3 4\n"
          ]
        }
      ]
    },
    {
      "cell_type": "code",
      "source": [
        "#예제4-2 시각\n",
        "n = int(input())\n",
        "count = 0\n",
        "for i in range(n+1):\n",
        "  for j in range(60):\n",
        "    for k in range(60):\n",
        "      if '3' in str(i) + str(j) + str(k):\n",
        "        count += 1\n",
        "print(count)"
      ],
      "metadata": {
        "colab": {
          "base_uri": "https://localhost:8080/"
        },
        "id": "Ka6DAsyHGR42",
        "outputId": "9b39fe29-7a58-4850-b430-9ff04d36abc0"
      },
      "execution_count": 3,
      "outputs": [
        {
          "output_type": "stream",
          "name": "stdout",
          "text": [
            "5\n",
            "11475\n"
          ]
        }
      ]
    },
    {
      "cell_type": "code",
      "source": [
        "#왕실의 나이트\n",
        "now = input()\n",
        "row = int(now[1])\n",
        "column = int(ord(now[0])) - int(ord('a')) + 1\n",
        "\n",
        "steps = [(-2,-1),(-1,-2),(1,-2),(2,-1),(2,1),(1,2),(-1,2),(-2,1)]\n",
        "\n",
        "result = 0\n",
        "for step in steps:\n",
        "  next_row = row + step[0]\n",
        "  next_column = column + step[1]\n",
        "  if next_row >= 1 and next_row <= 8 and next_column >= 1 and  next_column <= 8:\n",
        "    result += 1\n",
        "\n",
        "print(result)"
      ],
      "metadata": {
        "colab": {
          "base_uri": "https://localhost:8080/"
        },
        "id": "xcDT-i-bHDVv",
        "outputId": "3744b749-47c2-4ad9-9501-c3276e55c0cf"
      },
      "execution_count": 4,
      "outputs": [
        {
          "output_type": "stream",
          "name": "stdout",
          "text": [
            "a1\n",
            "2\n"
          ]
        }
      ]
    },
    {
      "cell_type": "code",
      "source": [
        "# 게임 개발 문제\n",
        "n,m = map(int,input().split())\n",
        "\n",
        "d = [[0]*m for _ in range(n)]\n",
        "\n",
        "x,y,dir = map(int,input().split())\n",
        "d[x][y] = 1\n",
        "\n",
        "array = []\n",
        "for i in range(n):\n",
        "  array.append(list(map(int,input().split())))\n",
        "\n",
        "dx = [-1,0,1,0]\n",
        "dy = [0,1,0,-1]\n",
        "\n",
        "def turn_left():\n",
        "  global dir\n",
        "  dir -= 1\n",
        "  if dir == -1:\n",
        "    dir = 3\n",
        "count = 1\n",
        "turn_time = 0\n",
        "while True:\n",
        "  turn_left()\n",
        "  nx = x + dx[dir]\n",
        "  ny = y + dy[dir]\n",
        "\n",
        "  if d[nx][ny] == 0 and array[nx][ny] == 0:\n",
        "    d[nx][ny] = 1\n",
        "    x = nx\n",
        "    y = ny\n",
        "    count += 1\n",
        "    turn_time = 0\n",
        "    continue\n",
        "  else:\n",
        "    turn_time += 1\n",
        "  if turn_time == 4:\n",
        "    nx = x - dx[dir]\n",
        "    ny = y - dy[dir]\n",
        "\n",
        "    if array[nx][ny] == 0:\n",
        "      x = nx\n",
        "      y = ny\n",
        "    else:\n",
        "      break\n",
        "    turn_time = 0\n",
        "print(count)\n",
        "\n"
      ],
      "metadata": {
        "colab": {
          "base_uri": "https://localhost:8080/"
        },
        "id": "CB4lr-mnIWkc",
        "outputId": "d9d790e0-e865-46ac-9572-f486627d5457"
      },
      "execution_count": 6,
      "outputs": [
        {
          "output_type": "stream",
          "name": "stdout",
          "text": [
            "4 4\n",
            "1 1 0\n",
            "1 1 1 1\n",
            "1 0 0 1\n",
            "1 1 0 1\n",
            "1 1 1 1\n",
            "3\n"
          ]
        }
      ]
    }
  ]
}