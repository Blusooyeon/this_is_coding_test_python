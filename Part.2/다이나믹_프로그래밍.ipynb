{
  "nbformat": 4,
  "nbformat_minor": 0,
  "metadata": {
    "colab": {
      "provenance": [],
      "authorship_tag": "ABX9TyOH/mtsvtQHT26Lkr5tOhwF",
      "include_colab_link": true
    },
    "kernelspec": {
      "name": "python3",
      "display_name": "Python 3"
    },
    "language_info": {
      "name": "python"
    }
  },
  "cells": [
    {
      "cell_type": "markdown",
      "metadata": {
        "id": "view-in-github",
        "colab_type": "text"
      },
      "source": [
        "<a href=\"https://colab.research.google.com/github/Blusooyeon/this_is_coding_test_python/blob/main/%EB%8B%A4%EC%9D%B4%EB%82%98%EB%AF%B9_%ED%94%84%EB%A1%9C%EA%B7%B8%EB%9E%98%EB%B0%8D.ipynb\" target=\"_parent\"><img src=\"https://colab.research.google.com/assets/colab-badge.svg\" alt=\"Open In Colab\"/></a>"
      ]
    },
    {
      "cell_type": "markdown",
      "source": [
        "## 동적 계획법 ( 다이나믹 프로그래밍)\n",
        "1. 큰 문제를 작은 문제로 나눌 수 있음\n",
        "2. 작은 문제에서 구한 정답은 그것을 포함하는 큰 문제에서도 동일\n",
        "* Memoization : 한 번 구한 결과를 메모리 공간에 메모해두고 같은 식을 다시 호출하여 메모한 결과를 그대로 가져오는 기법 , 캐싱 이라고도 한다\n",
        "* top-down 방식 : 재귀 함수를 이용하여 다이나믹 프로그래밍 코드를 작성하는 방법\n",
        "* bottom-up 방식 : 단순히 반복문을 이용하여 코드 작성, 작은 문제부터 차근차근 답을 도출\n"
      ],
      "metadata": {
        "id": "pJAf1KKX-Vcy"
      }
    },
    {
      "cell_type": "code",
      "execution_count": 1,
      "metadata": {
        "colab": {
          "base_uri": "https://localhost:8080/"
        },
        "id": "2-Amz3eO9ifn",
        "outputId": "5384aa76-afe4-4431-8dac-fef265eda036"
      },
      "outputs": [
        {
          "output_type": "stream",
          "name": "stdout",
          "text": [
            "3\n"
          ]
        }
      ],
      "source": [
        "# 피보나치 함수 (재귀 함수로 구현)\n",
        "def fibo(x):\n",
        "    if x==1 or x==2:\n",
        "        return 1\n",
        "    return fibo(x-1) + fibo(x-2)\n",
        "\n",
        "print(fibo(4))"
      ]
    },
    {
      "cell_type": "code",
      "source": [
        "# 피보나치 수열 (반복문으로 구현)\n",
        "# 보텀업 다이나믹 프로그래밍\n",
        "d = [0]*100\n",
        "d[1] = 1\n",
        "d[2] = 1\n",
        "n = 99\n",
        "\n",
        "for i in range(3,n+1):\n",
        "    d[i] = d[i-1] + d[i-2]\n",
        "print(d[n])"
      ],
      "metadata": {
        "colab": {
          "base_uri": "https://localhost:8080/"
        },
        "id": "HNmkVGduBBYc",
        "outputId": "afecf254-739b-4884-ea50-52be4622af9c"
      },
      "execution_count": 2,
      "outputs": [
        {
          "output_type": "stream",
          "name": "stdout",
          "text": [
            "218922995834555169026\n"
          ]
        }
      ]
    },
    {
      "cell_type": "code",
      "source": [
        "# 1로 만들기\n",
        "x = int(input())\n",
        "d = [0] * 30001\n",
        "\n",
        "for i in range(2, x+1):\n",
        "    d[i] = d[i-1] + 1\n",
        "    if i % 2 == 0 :\n",
        "        d[i] = min(d[i],d[i//2]+1)\n",
        "    if i % 3 == 0 :\n",
        "        d[i] = min(d[i],d[i//3]+1)\n",
        "    if i % 5 == 0 :\n",
        "        d[i] = min(d[i],d[i//5]+1)\n",
        "print(d[x])\n",
        "\n",
        ""
      ],
      "metadata": {
        "colab": {
          "base_uri": "https://localhost:8080/"
        },
        "id": "mN8W-GH9BkEk",
        "outputId": "57fe6721-55ee-4110-db1a-1d388b0ed0a2"
      },
      "execution_count": 3,
      "outputs": [
        {
          "output_type": "stream",
          "name": "stdout",
          "text": [
            "26\n",
            "3\n"
          ]
        }
      ]
    },
    {
      "cell_type": "code",
      "source": [
        "# 실전 문제 개미 전사\n",
        "n = int(input())\n",
        "array = list(map(int,input().split()))\n",
        "\n",
        "d = [0] * 100\n",
        "d[0] = array[0]\n",
        "d[1] = max(array[0],array[1])\n",
        "for i in range(2,n):\n",
        "    d[i] = max(d[i-1], d[i-2]+array[i])\n",
        "\n",
        "print(d[n-1])"
      ],
      "metadata": {
        "colab": {
          "base_uri": "https://localhost:8080/"
        },
        "id": "qLvDDySd6v7Z",
        "outputId": "d51e44d1-a911-4916-e699-2dc39484a0d3"
      },
      "execution_count": 3,
      "outputs": [
        {
          "output_type": "stream",
          "name": "stdout",
          "text": [
            "4\n",
            "1 3 1 5\n",
            "8\n"
          ]
        }
      ]
    },
    {
      "cell_type": "code",
      "source": [
        "# 타일링 문제 바닥 공사\n",
        "n = int(input())\n",
        "\n",
        "d = [0]*1001\n",
        "\n",
        "d[1] = 1\n",
        "d[2] = 3\n",
        "for i in range(3,n+1):\n",
        "    d[i] = (d[i-1] + 2*d[i-2]) % 796796\n",
        "\n",
        "print(d[n])"
      ],
      "metadata": {
        "colab": {
          "base_uri": "https://localhost:8080/"
        },
        "id": "7vFJnV-i751Z",
        "outputId": "b87be011-4e11-45e1-9444-7a4e8ebfd28c"
      },
      "execution_count": 4,
      "outputs": [
        {
          "output_type": "stream",
          "name": "stdout",
          "text": [
            "3\n",
            "5\n"
          ]
        }
      ]
    },
    {
      "cell_type": "code",
      "source": [
        "#효율적인 화폐 구성\n",
        "n,m = map(int,input().split())\n",
        "array = []\n",
        "for i in range(n):\n",
        "    array.append(int(input()))\n",
        "\n",
        "d = [10001] * (m+1)\n",
        "d[0] = 0\n",
        "for i in range(n):\n",
        "    for j in range(array[i], m+1):\n",
        "        if d[j-array[i]] != 10001:\n",
        "            d[j] = min(d[j], d[j-array[i]] + 1)\n",
        "\n",
        "if d[m] == 10001:\n",
        "     print(-1)\n",
        "else:\n",
        "     print(d[m])"
      ],
      "metadata": {
        "colab": {
          "base_uri": "https://localhost:8080/"
        },
        "id": "bZ3PhWX6850v",
        "outputId": "f0e4b819-c4b8-46fc-ac01-90af424d5ef2"
      },
      "execution_count": 5,
      "outputs": [
        {
          "output_type": "stream",
          "name": "stdout",
          "text": [
            "2 15\n",
            "2\n",
            "3\n",
            "5\n"
          ]
        }
      ]
    }
  ]
}
