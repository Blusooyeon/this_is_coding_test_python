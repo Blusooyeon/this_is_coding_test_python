{
  "nbformat": 4,
  "nbformat_minor": 0,
  "metadata": {
    "colab": {
      "provenance": [],
      "authorship_tag": "ABX9TyPa66E+4JMC3d/MEp0ThbIB",
      "include_colab_link": true
    },
    "kernelspec": {
      "name": "python3",
      "display_name": "Python 3"
    },
    "language_info": {
      "name": "python"
    }
  },
  "cells": [
    {
      "cell_type": "markdown",
      "metadata": {
        "id": "view-in-github",
        "colab_type": "text"
      },
      "source": [
        "<a href=\"https://colab.research.google.com/github/Blusooyeon/this_is_coding_test_python/blob/main/%EA%B7%B8%EB%A6%AC%EB%94%94.ipynb\" target=\"_parent\"><img src=\"https://colab.research.google.com/assets/colab-badge.svg\" alt=\"Open In Colab\"/></a>"
      ]
    },
    {
      "cell_type": "markdown",
      "source": [
        "#그리디 greedy 알고리즘   \n",
        "현재 상황에서 지금 당장 좋은 것만 고르는 방법\n"
      ],
      "metadata": {
        "id": "X-Neyc29uLZg"
      }
    },
    {
      "cell_type": "code",
      "execution_count": null,
      "metadata": {
        "id": "XJNHA2hDrM_F"
      },
      "outputs": [],
      "source": [
        "#예제3-1 거스름돈\n",
        "\n",
        "n = 1260\n",
        "count = 0\n",
        "\n",
        "# 가장 큰 단위 동전부터 차례대로 확인\n",
        "\n",
        "coin_types = [500,100,50,10]\n",
        "for coin in coin_types:\n",
        "    count += n//coin\n",
        "    n %= coin\n",
        "\n",
        "print(count)"
      ]
    },
    {
      "cell_type": "code",
      "source": [
        "#큰 수의 법칙 문제\n",
        "\n",
        "n,m,k = map(int,input().split())\n",
        "nums = list(map(int,input().split()))\n",
        "\n",
        "nums.sort()\n",
        "\n",
        "first = nums[n-1]\n",
        "second = nums[n-2]\n",
        "\n",
        "count = (m//(k+1))*k\n",
        "count +=  m %(k+1)\n",
        "\n",
        "result = 0\n",
        "result += count * first\n",
        "result += (m-count) * second\n",
        "\n",
        "print(result)"
      ],
      "metadata": {
        "colab": {
          "base_uri": "https://localhost:8080/"
        },
        "id": "8gRBtR9Xvpz_",
        "outputId": "935ec746-3b7b-47f0-a291-ee36498f6a52"
      },
      "execution_count": 1,
      "outputs": [
        {
          "output_type": "stream",
          "name": "stdout",
          "text": [
            "5 8 3\n",
            "2 4 5 4 6\n",
            "46\n"
          ]
        }
      ]
    },
    {
      "cell_type": "code",
      "source": [
        "# 숫자 카드 게임\n",
        "n,m = map(int,input().split())\n",
        "result = 0\n",
        "for i in range(n):\n",
        "  data = list(map(int,input().split()))\n",
        "  min_num = min(data)\n",
        "  result = max(result,min_num)\n",
        "\n",
        "print(result)"
      ],
      "metadata": {
        "colab": {
          "base_uri": "https://localhost:8080/"
        },
        "id": "8faA-OAbxzKV",
        "outputId": "18af7da0-379f-4293-dd20-b89b4b53a3a7"
      },
      "execution_count": 3,
      "outputs": [
        {
          "output_type": "stream",
          "name": "stdout",
          "text": [
            "2 4\n",
            "7 3 1 8\n",
            "3 3 3 4\n",
            "3\n"
          ]
        }
      ]
    },
    {
      "cell_type": "code",
      "source": [
        "# 1이 될 때까지\n",
        "n,k = map(int,input().split())\n",
        "count = 0\n",
        "while n >= k:\n",
        "  while n % k != 0:\n",
        "    n -= 1\n",
        "    count += 1\n",
        "  n //= k\n",
        "  count += 1\n",
        "\n",
        "while n > 1:\n",
        "  n -= 1\n",
        "  count += 1\n",
        "print(count)\n",
        "\n",
        ""
      ],
      "metadata": {
        "colab": {
          "base_uri": "https://localhost:8080/"
        },
        "id": "zo-AAYkPzSaz",
        "outputId": "76d6dbc6-4044-4cc3-d5f4-ccdc79be1722"
      },
      "execution_count": 5,
      "outputs": [
        {
          "output_type": "stream",
          "name": "stdout",
          "text": [
            "25 3\n",
            "6\n"
          ]
        }
      ]
    }
  ]
}
