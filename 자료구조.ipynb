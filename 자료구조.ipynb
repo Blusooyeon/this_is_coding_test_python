{
  "nbformat": 4,
  "nbformat_minor": 0,
  "metadata": {
    "colab": {
      "provenance": [],
      "authorship_tag": "ABX9TyN9qoatepYjU6SkUYnrGqRz",
      "include_colab_link": true
    },
    "kernelspec": {
      "name": "python3",
      "display_name": "Python 3"
    },
    "language_info": {
      "name": "python"
    }
  },
  "cells": [
    {
      "cell_type": "markdown",
      "metadata": {
        "id": "view-in-github",
        "colab_type": "text"
      },
      "source": [
        "<a href=\"https://colab.research.google.com/github/Blusooyeon/this_is_coding_test_python/blob/main/%EC%9E%90%EB%A3%8C%EA%B5%AC%EC%A1%B0.ipynb\" target=\"_parent\"><img src=\"https://colab.research.google.com/assets/colab-badge.svg\" alt=\"Open In Colab\"/></a>"
      ]
    },
    {
      "cell_type": "markdown",
      "source": [
        "##자료구조  \n",
        ": 데이터를 표현하고 관리하고 처리하기 위한 구조       \n",
        "\n",
        "> 스택: 선입후출, 후입선출 구조   \n",
        "> 기본 리스트에서 append()와 pop() 메서드 이용   \n",
        "\n",
        "> 큐: 선입선출 구조   \n",
        "> 파이썬으로 큐를 구현할 때는 collections 모듈에서 제공하는 deque 자료구조 활용\n",
        "\n",
        "\n"
      ],
      "metadata": {
        "id": "14oR4LZoBqt-"
      }
    },
    {
      "cell_type": "code",
      "execution_count": 4,
      "metadata": {
        "colab": {
          "base_uri": "https://localhost:8080/"
        },
        "id": "2zGDiWjrA5hP",
        "outputId": "70dd71db-da77-4690-a5fe-6a85ab9ddcbe"
      },
      "outputs": [
        {
          "output_type": "stream",
          "name": "stdout",
          "text": [
            "deque([3, 7, 1, 4])\n"
          ]
        },
        {
          "output_type": "execute_result",
          "data": {
            "text/plain": [
              "[3, 7, 1, 4]"
            ]
          },
          "metadata": {},
          "execution_count": 4
        }
      ],
      "source": [
        "# 큐 예제\n",
        "from collections import deque\n",
        "\n",
        "queue = deque()\n",
        "\n",
        "queue.append(5)\n",
        "queue.append(2)\n",
        "queue.append(3)\n",
        "queue.append(7)\n",
        "queue.popleft()\n",
        "queue.append(1)\n",
        "queue.append(4)\n",
        "queue.popleft()\n",
        "\n",
        "print(queue)\n",
        "\n",
        "# deque형태를 list로 반환\n",
        "list(queue)"
      ]
    },
    {
      "cell_type": "markdown",
      "source": [
        "## 재귀 함수\n",
        " : 자기 자신을 다시 호출하는 함수   \n",
        " 재귀함수를 문제 풀이에서 사용할 때는 재귀 함수가 언제 끝날지, 종료 조건을 꼭 명시해야 한다.\n",
        "\n"
      ],
      "metadata": {
        "id": "vYz8KPD9E0QW"
      }
    },
    {
      "cell_type": "code",
      "source": [
        "# 2가지 방식으로 구현한 팩토리얼 예제\n",
        "# 반복적으로 구현한 n!\n",
        "def factorial_iterative(n):\n",
        "    result = 1\n",
        "    for i in range(1,n+1):\n",
        "        result *= i\n",
        "    return result\n",
        "\n",
        "# 재귀적으로 구현한 n!\n",
        "def factorial_recursive(n):\n",
        "    if n <= 1:\n",
        "      return 1\n",
        "    return n * factorial_recursive(n-1)\n",
        "\n",
        "# 둘을 비교해보면 수학의 점화식을 이용한 재귀식이 더 간결하다\n",
        "# 재귀 함수를 사용할 때는 if문을 이용하여 종료 조건을 꼭 구현해줘야 한다"
      ],
      "metadata": {
        "id": "shz4wTdXC-LO"
      },
      "execution_count": null,
      "outputs": []
    }
  ]
}