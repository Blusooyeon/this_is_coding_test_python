{
  "nbformat": 4,
  "nbformat_minor": 0,
  "metadata": {
    "colab": {
      "provenance": [],
      "authorship_tag": "ABX9TyOQ6jPgLq9nRiUHbYY/y0oD",
      "include_colab_link": true
    },
    "kernelspec": {
      "name": "python3",
      "display_name": "Python 3"
    },
    "language_info": {
      "name": "python"
    }
  },
  "cells": [
    {
      "cell_type": "markdown",
      "metadata": {
        "id": "view-in-github",
        "colab_type": "text"
      },
      "source": [
        "<a href=\"https://colab.research.google.com/github/Blusooyeon/this_is_coding_test_python/blob/main/DFS_BFS%EC%98%88%EC%A0%9C.ipynb\" target=\"_parent\"><img src=\"https://colab.research.google.com/assets/colab-badge.svg\" alt=\"Open In Colab\"/></a>"
      ]
    },
    {
      "cell_type": "code",
      "execution_count": 2,
      "metadata": {
        "colab": {
          "base_uri": "https://localhost:8080/"
        },
        "id": "HKEe51DTs642",
        "outputId": "dadcf225-32f6-40f1-e055-67a91d46ac3e"
      },
      "outputs": [
        {
          "output_type": "stream",
          "name": "stdout",
          "text": [
            "3 3\n",
            "001\n",
            "010\n",
            "100\n",
            "2\n"
          ]
        }
      ],
      "source": [
        "#DFS 예제\n",
        "#음료수 얼려 먹기\n",
        "n,m = map(int,input().split())\n",
        "\n",
        "graph = []\n",
        "for i in range(n):\n",
        "  graph.append(list(map(int,input())))\n",
        "\n",
        "def dfs(x,y):\n",
        "  if x <= -1 or x >= n or y <= -1 or y>= m:\n",
        "      return False\n",
        "  if graph[x][y] == 0:\n",
        "      graph[x][y] = 1\n",
        "      dfs(x-1,y)\n",
        "      dfs(x,y-1)\n",
        "      dfs(x+1,y)\n",
        "      dfs(x,y+1)\n",
        "      return True\n",
        "  return False\n",
        "\n",
        "result = 0\n",
        "for i in range(n):\n",
        "  for j in range(m):\n",
        "    if dfs(i,j) == True:\n",
        "      result += 1\n",
        "\n",
        "print(result)"
      ]
    },
    {
      "cell_type": "code",
      "source": [
        "# BFS 예제\n",
        "# 미로 탈출\n",
        "from collections import deque\n",
        "\n",
        "n,m = map(int,input().split())\n",
        "graph = []\n",
        "for i in range(n):\n",
        "    graph.append(list(map(int,input())))\n",
        "dx = [-1,1,0,0]\n",
        "dy = [0,0,-1,1]\n",
        "\n",
        "def bfs(x,y):\n",
        "    queue = deque()\n",
        "    queue.append((x,y))\n",
        "    while queue:\n",
        "        x,y = queue.popleft()\n",
        "        for i in range(4):\n",
        "          nx = x + dx[i]\n",
        "          ny = y + dy[i]\n",
        "\n",
        "          if nx < 0 or ny < 0 or nx >= n or ny >= m:\n",
        "            continue\n",
        "          if graph[nx][ny] == 0:\n",
        "            continue\n",
        "          if graph[nx][ny] == 1:\n",
        "            graph[nx][ny] = graph[x][y] + 1\n",
        "            queue.append((nx,ny))\n",
        "    return graph[n-1][m-1]\n",
        "\n",
        "print(bfs(0,0))"
      ],
      "metadata": {
        "colab": {
          "base_uri": "https://localhost:8080/"
        },
        "id": "MdUyQhcqxXXy",
        "outputId": "65f0329e-a607-4eb6-8ff8-8647fb4d5d7b"
      },
      "execution_count": 4,
      "outputs": [
        {
          "output_type": "stream",
          "name": "stdout",
          "text": [
            "5 6\n",
            "101010\n",
            "111111\n",
            "000001\n",
            "111111\n",
            "111111\n",
            "10\n"
          ]
        }
      ]
    }
  ]
}