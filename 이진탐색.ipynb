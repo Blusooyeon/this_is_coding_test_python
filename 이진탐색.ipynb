{
  "nbformat": 4,
  "nbformat_minor": 0,
  "metadata": {
    "colab": {
      "provenance": [],
      "authorship_tag": "ABX9TyPZ5GHmrqUS9xjvSkc1WLGw",
      "include_colab_link": true
    },
    "kernelspec": {
      "name": "python3",
      "display_name": "Python 3"
    },
    "language_info": {
      "name": "python"
    }
  },
  "cells": [
    {
      "cell_type": "markdown",
      "metadata": {
        "id": "view-in-github",
        "colab_type": "text"
      },
      "source": [
        "<a href=\"https://colab.research.google.com/github/Blusooyeon/this_is_coding_test_python/blob/main/%EC%9D%B4%EC%A7%84%ED%83%90%EC%83%89.ipynb\" target=\"_parent\"><img src=\"https://colab.research.google.com/assets/colab-badge.svg\" alt=\"Open In Colab\"/></a>"
      ]
    },
    {
      "cell_type": "markdown",
      "source": [
        "## 이진 탐색 알고리즘\n",
        "* 순차 탐색 : 리스트 안에 있는 특정한 데이터를 찾기 위해 앞에서부터 데이터를 하나씩 차례대로 확인하는 방법\n",
        "* 이진 탐색 : 배열 내부의 데이터가 정렬되어 있을 때, 찾으려는 데이터와 중간점 위치에 있는 데이터를 반복적으로 비교해서 원하는 데이터를 찾는 방법"
      ],
      "metadata": {
        "id": "PqKv-YuAs34F"
      }
    },
    {
      "cell_type": "code",
      "execution_count": 1,
      "metadata": {
        "id": "VB3RvsJ9KFIp",
        "colab": {
          "base_uri": "https://localhost:8080/"
        },
        "outputId": "90a1d0c6-773e-4117-86dc-82122eb6d8b9"
      },
      "outputs": [
        {
          "output_type": "stream",
          "name": "stdout",
          "text": [
            "5 kim\n",
            "hwang lee ki kim hong\n",
            "4\n"
          ]
        }
      ],
      "source": [
        "# 순차 탐색 소스코드\n",
        "def sequential_search(n,target,array):\n",
        "    for i in range(n):\n",
        "        if array[i] == target:\n",
        "            return i+1\n",
        "\n",
        "input_data = input().split()\n",
        "n = int(input_data[0])\n",
        "target = input_data[1]\n",
        "\n",
        "array = input().split()\n",
        "\n",
        "print(sequential_search(n, target, array))"
      ]
    },
    {
      "cell_type": "code",
      "source": [
        "# 이진 탐색 소스코드 구현(재귀 함수)\n",
        "def binary_search(array,target,start,end):\n",
        "    if start > end:\n",
        "        return None\n",
        "    mid = (start + end) // 2\n",
        "    if array[mid] == target:\n",
        "        return mid\n",
        "    elif array[mid] > target:\n",
        "        return binary_search(array, target, start, mid-1)\n",
        "    else:\n",
        "        return binary_search(array, target, mid+1, end)\n",
        "\n",
        "n, target = list(map(int,input().split()))\n",
        "array = list(map(int,input().split()))\n",
        "\n",
        "result = binary_search(array, target,0,n-1)\n",
        "if result == None:\n",
        "    print(\"원소가 존재하지 않습니다\")\n",
        "else:\n",
        "    print(result+1)"
      ],
      "metadata": {
        "colab": {
          "base_uri": "https://localhost:8080/"
        },
        "id": "c05K34MWungL",
        "outputId": "f4cb2416-32fa-4b49-b4d5-58c03d739994"
      },
      "execution_count": 2,
      "outputs": [
        {
          "output_type": "stream",
          "name": "stdout",
          "text": [
            "10 7\n",
            "1 3 5 7 9 11 13 15 17 19\n",
            "4\n"
          ]
        }
      ]
    },
    {
      "cell_type": "code",
      "source": [
        "# 이진 탐색 소스코드 구현(반복문)\n",
        "def binary_search(array, target, start, end):\n",
        "    while start <= end:\n",
        "        mid = (start+end)//2\n",
        "        if array[mid] == target:\n",
        "            return mid\n",
        "        elif array[mid] > target:\n",
        "            end = mid-1\n",
        "        else:\n",
        "            start = mid + 1\n",
        "    return None\n",
        "n,target = list(map(int,input().split()))\n",
        "array = list(map(int,input().split()))\n",
        "\n",
        "result = binary_search(array, target,0 ,n-1)\n",
        "if result == None:\n",
        "    print(\"원소가 존재하지 않습니다\")\n",
        "else:\n",
        "    print(result + 1)"
      ],
      "metadata": {
        "colab": {
          "base_uri": "https://localhost:8080/"
        },
        "id": "Og3LlmrLvrDg",
        "outputId": "c1ca962e-4095-4db9-9c38-e398a999bde6"
      },
      "execution_count": 3,
      "outputs": [
        {
          "output_type": "stream",
          "name": "stdout",
          "text": [
            "10 7\n",
            "1 3 5 7 9 11 13 15 17 19\n",
            "4\n"
          ]
        }
      ]
    },
    {
      "cell_type": "code",
      "source": [
        "# 실전 문제\n",
        "# 부품 찾기\n",
        "# 이진 탐색 소스코드 구현(반복문)\n",
        "def binary_search(array, target, start, end):\n",
        "    while start <= end:\n",
        "        mid = (start+end)//2\n",
        "        if array[mid] == target:\n",
        "            return mid\n",
        "        elif array[mid] > target:\n",
        "            end = mid-1\n",
        "        else:\n",
        "            start = mid + 1\n",
        "    return None\n",
        "\n",
        "n = int(input())\n",
        "array = list(map(int,input().split()))\n",
        "array.sort()\n",
        "\n",
        "m = int(input())\n",
        "x = list(map(int,input().split()))\n",
        "\n",
        "for i in x:\n",
        "    result = binary_search(array,i,0,n-1)\n",
        "    if result != None:\n",
        "        print(\"yes\",end=' ')\n",
        "    else:\n",
        "        print(\"no\",end=' ')"
      ],
      "metadata": {
        "colab": {
          "base_uri": "https://localhost:8080/"
        },
        "id": "SypQuHR7w_OA",
        "outputId": "4737fc2a-a3d7-49f7-eb78-46236dca9d81"
      },
      "execution_count": 6,
      "outputs": [
        {
          "output_type": "stream",
          "name": "stdout",
          "text": [
            "5\n",
            "8 3 7 9 2\n",
            "3\n",
            "5 7 9\n",
            "no yes yes "
          ]
        }
      ]
    },
    {
      "cell_type": "code",
      "source": [
        "# 실전 문제\n",
        "# 부품 찾기\n",
        "# set 자료형 이용\n",
        "n = int(input())\n",
        "array = set(map(int,input().split()))\n",
        "\n",
        "m = int(input())\n",
        "x = list(map(int,input().split()))\n",
        "\n",
        "for i in x:\n",
        "    if i in array:\n",
        "        print(\"yes\", end=' ')\n",
        "    else:\n",
        "        print(\"no\", end=' ')"
      ],
      "metadata": {
        "colab": {
          "base_uri": "https://localhost:8080/"
        },
        "id": "MS7SbtOazNWn",
        "outputId": "5d794abb-ba8f-4dce-c827-5f9e1b81b03e"
      },
      "execution_count": 7,
      "outputs": [
        {
          "output_type": "stream",
          "name": "stdout",
          "text": [
            "5\n",
            "4 6 8 9 1\n",
            "3\n",
            "3 9 1\n",
            "no yes yes "
          ]
        }
      ]
    },
    {
      "cell_type": "code",
      "source": [
        "#실전 문제\n",
        "#파라메트릭 서치 유형 문제\n",
        "n,m = list(map(int,input().split()))\n",
        "\n",
        "array = list(map(int,input().split()))\n",
        "\n",
        "start = 0\n",
        "end = max(array)\n",
        "\n",
        "result = 0\n",
        "while (start <= end):\n",
        "    total = 0\n",
        "    mid = (start + end) //2\n",
        "    for x in array:\n",
        "        if x > mid:\n",
        "            total += x - mid\n",
        "    if total < m:\n",
        "        end = mid - 1\n",
        "    else:\n",
        "        result = mid\n",
        "        start = mid + 1\n",
        "print(result)"
      ],
      "metadata": {
        "colab": {
          "base_uri": "https://localhost:8080/"
        },
        "id": "IBhyp7tgz8Rs",
        "outputId": "7ee8e541-d08e-43ff-c3c5-69ed50df9c81"
      },
      "execution_count": 8,
      "outputs": [
        {
          "output_type": "stream",
          "name": "stdout",
          "text": [
            "4 6\n",
            "19 15 10 17\n",
            "15\n"
          ]
        }
      ]
    }
  ]
}